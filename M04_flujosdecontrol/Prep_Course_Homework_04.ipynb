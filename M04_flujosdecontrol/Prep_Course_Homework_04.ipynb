{
 "cells": [
  {
   "attachments": {},
   "cell_type": "markdown",
   "metadata": {},
   "source": [
    "## Flujos de Control"
   ]
  },
  {
   "attachments": {},
   "cell_type": "markdown",
   "metadata": {},
   "source": [
    "1) Crear una variable que contenga un elemento del conjunto de números enteros y luego imprimir por pantalla si es mayor o menor a cero"
   ]
  },
  {
   "cell_type": "code",
   "execution_count": 6,
   "metadata": {},
   "outputs": [
    {
     "name": "stdout",
     "output_type": "stream",
     "text": [
      " 3 es mayor 0\n"
     ]
    }
   ],
   "source": [
    "x = 3\n",
    "if x > 0:\n",
    "    print(f\" {x} es mayor 0\")\n",
    "else:\n",
    "    print(f\" {x} es menor 0\")"
   ]
  },
  {
   "attachments": {},
   "cell_type": "markdown",
   "metadata": {},
   "source": [
    "2) Crear dos variables y un condicional que informe si son del mismo tipo de dato"
   ]
  },
  {
   "cell_type": "code",
   "execution_count": 10,
   "metadata": {},
   "outputs": [
    {
     "name": "stdout",
     "output_type": "stream",
     "text": [
      "Las variables son un tipo de dato diferente\n"
     ]
    }
   ],
   "source": [
    "a = \"Hola\"\n",
    "b = 6\n",
    "if (type(a) == type(b)):\n",
    "    print(\"Las variables con el mismo tipo de dato\")\n",
    "else:\n",
    "    print(\"Las variables son un tipo de dato diferente\")\n"
   ]
  },
  {
   "attachments": {},
   "cell_type": "markdown",
   "metadata": {},
   "source": [
    "3) Para los valores enteros del 1 al 20, imprimir por pantalla si es par o impar"
   ]
  },
  {
   "cell_type": "code",
   "execution_count": 15,
   "metadata": {},
   "outputs": [
    {
     "name": "stdout",
     "output_type": "stream",
     "text": [
      "1 es un numero impar\n",
      "2 es un numero par\n",
      "3 es un numero impar\n",
      "4 es un numero par\n",
      "5 es un numero impar\n",
      "6 es un numero par\n",
      "7 es un numero impar\n",
      "8 es un numero par\n",
      "9 es un numero impar\n",
      "10 es un numero par\n",
      "11 es un numero impar\n",
      "12 es un numero par\n",
      "13 es un numero impar\n",
      "14 es un numero par\n",
      "15 es un numero impar\n",
      "16 es un numero par\n",
      "17 es un numero impar\n",
      "18 es un numero par\n",
      "19 es un numero impar\n",
      "20 es un numero par\n"
     ]
    }
   ],
   "source": [
    "for i in range(1,21):\n",
    "    if i % 2 == 0:\n",
    "        print(f\"{i} es un numero par\")\n",
    "    else:\n",
    "        print(f\"{i} es un numero impar\")"
   ]
  },
  {
   "attachments": {},
   "cell_type": "markdown",
   "metadata": {},
   "source": [
    "4) En un ciclo for mostrar para los valores entre 0 y 5 el resultado de elevarlo a la potencia igual a 3"
   ]
  },
  {
   "cell_type": "code",
   "execution_count": 20,
   "metadata": {},
   "outputs": [
    {
     "name": "stdout",
     "output_type": "stream",
     "text": [
      "1\n",
      "8\n",
      "27\n",
      "64\n",
      "125\n"
     ]
    }
   ],
   "source": [
    "for i in range(1,6):\n",
    "    i = i**3\n",
    "    print(i)"
   ]
  },
  {
   "attachments": {},
   "cell_type": "markdown",
   "metadata": {},
   "source": [
    "5) Crear una variable que contenga un número entero y realizar un ciclo for la misma cantidad de ciclos"
   ]
  },
  {
   "cell_type": "code",
   "execution_count": 22,
   "metadata": {},
   "outputs": [
    {
     "name": "stdout",
     "output_type": "stream",
     "text": [
      "0\n",
      "1\n",
      "2\n",
      "3\n",
      "4\n"
     ]
    }
   ],
   "source": [
    "x = 5\n",
    "for i in range(0,5):\n",
    "    print(i)"
   ]
  },
  {
   "attachments": {},
   "cell_type": "markdown",
   "metadata": {},
   "source": [
    "6) Utilizar un ciclo while para realizar el factorial de un número guardado en una variable, sólo si la variable contiene un número entero mayor a 0"
   ]
  },
  {
   "cell_type": "code",
   "execution_count": 38,
   "metadata": {},
   "outputs": [
    {
     "name": "stdout",
     "output_type": "stream",
     "text": [
      "The factorial of 9 is : 362880\n"
     ]
    }
   ],
   "source": [
    "n = 9\n",
    "fact = 1\n",
    " \n",
    "for i in range(1, n+1):\n",
    "    fact = fact * i\n",
    " \n",
    "print(\"The factorial of 9 is : \", end=\"\")\n",
    "print(fact)"
   ]
  },
  {
   "attachments": {},
   "cell_type": "markdown",
   "metadata": {},
   "source": [
    "7) Crear un ciclo for dentro de un ciclo while"
   ]
  },
  {
   "cell_type": "code",
   "execution_count": 47,
   "metadata": {},
   "outputs": [
    {
     "name": "stdout",
     "output_type": "stream",
     "text": [
      "1 es menor que 5\n",
      "2 es menor que 5\n",
      "3 es menor que 5\n",
      "4 es menor que 5\n"
     ]
    }
   ],
   "source": [
    "x=5\n",
    "while x > 0:\n",
    "    for i in range(1,5):\n",
    "        print(f\"{i} es menor que {x}\")\n",
    "    break"
   ]
  },
  {
   "attachments": {},
   "cell_type": "markdown",
   "metadata": {},
   "source": [
    "8) Crear un ciclo while dentro de un ciclo for"
   ]
  },
  {
   "cell_type": "code",
   "execution_count": 51,
   "metadata": {},
   "outputs": [
    {
     "name": "stdout",
     "output_type": "stream",
     "text": [
      "1 es menor que 5\n",
      "2 es menor que 5\n",
      "3 es menor que 5\n",
      "4 es menor que 5\n",
      "5 es menor que 5\n"
     ]
    }
   ],
   "source": [
    "x=5\n",
    "\n",
    "for i in range (1, x+1):\n",
    "    while i <= x:\n",
    "        print(f\"{i} es menor que {x}\")\n",
    "        break\n"
   ]
  },
  {
   "attachments": {},
   "cell_type": "markdown",
   "metadata": {},
   "source": [
    "9) Imprimir los números primos existentes entre 0 y 30"
   ]
  },
  {
   "cell_type": "markdown",
   "metadata": {},
   "source": [
    "# Numeros Primos\n",
    "# un número primo es un número natural mayor que 1, que tiene únicamente dos divisores positivos distintos: él mismo y el 1"
   ]
  },
  {
   "cell_type": "code",
   "execution_count": 1,
   "metadata": {},
   "outputs": [
    {
     "name": "stdout",
     "output_type": "stream",
     "text": [
      "2\n",
      "3\n",
      "5\n",
      "7\n",
      "11\n",
      "13\n",
      "17\n",
      "19\n",
      "23\n",
      "29\n"
     ]
    }
   ],
   "source": [
    "tope_rango = 30\n",
    "n = 2  # Iniciar desde 2, ya que 0 y 1 no son primos\n",
    "while n < tope_rango:\n",
    "    primo = True\n",
    "    for div in range(2, n):\n",
    "        if n % div == 0: # Esta condición se utiliza para determinar si el número n no es primo, ya que un número primo solo es divisible por 1 y por sí mismo, Si la condición es verdadera, significa que se ha encontrado un divisor diferente de 1 y n, y por lo tanto, n no es primo.\n",
    "            primo = False\n",
    "            break  # Salir del bucle for si encontramos un divisor\n",
    "    if primo:\n",
    "        print(n)\n",
    "    n += 1\n",
    "\n",
    "\n",
    "\n"
   ]
  },
  {
   "attachments": {},
   "cell_type": "markdown",
   "metadata": {},
   "source": [
    "10) ¿Se puede mejorar el proceso del punto 9? Utilizar las sentencias break y/ó continue para tal fin"
   ]
  },
  {
   "cell_type": "code",
   "execution_count": 3,
   "metadata": {},
   "outputs": [
    {
     "name": "stdout",
     "output_type": "stream",
     "text": [
      "2\n",
      "3\n",
      "5\n",
      "7\n",
      "11\n",
      "13\n",
      "17\n",
      "19\n",
      "23\n",
      "29\n"
     ]
    }
   ],
   "source": [
    "tope_rango = 30\n",
    "n = 2  # Iniciar desde 2, ya que 0 y 1 no son primos\n",
    "while n < tope_rango:\n",
    "    primo = True\n",
    "    for div in range(2, n):\n",
    "        if n % div == 0: # Esta condición se utiliza para determinar si el número n no es primo, ya que un número primo solo es divisible por 1 y por sí mismo, Si la condición es verdadera, significa que se ha encontrado un divisor diferente de 1 y n, y por lo tanto, n no es primo.\n",
    "            primo = False\n",
    "            break  # Salir del bucle for si encontramos un divisor\n",
    "    if primo:\n",
    "        print(n)\n",
    "    n += 1"
   ]
  },
  {
   "attachments": {},
   "cell_type": "markdown",
   "metadata": {},
   "source": [
    "11) En los puntos 9 y 10, se diseño un código que encuentra números primos y además se lo optimizó. ¿Es posible saber en qué medida se optimizó?"
   ]
  },
  {
   "cell_type": "markdown",
   "metadata": {},
   "source": [
    "# Agregamos la instrucción break después de la línea primo = False en el bucle for. Esto es necesario para salir del bucle tan pronto como se encuentre un divisor, ya que si encontramos un divisor, no es necesario verificar el resto de los números en el bucle."
   ]
  },
  {
   "attachments": {},
   "cell_type": "markdown",
   "metadata": {},
   "source": [
    "12) Aplicando continue, armar un ciclo while que solo imprima los valores divisibles por 12, dentro del rango de números de 100 a 300"
   ]
  },
  {
   "cell_type": "code",
   "execution_count": 4,
   "metadata": {},
   "outputs": [
    {
     "name": "stdout",
     "output_type": "stream",
     "text": [
      "108\n",
      "120\n",
      "132\n",
      "144\n",
      "156\n",
      "168\n",
      "180\n",
      "192\n",
      "204\n",
      "216\n",
      "228\n",
      "240\n",
      "252\n",
      "264\n",
      "276\n",
      "288\n",
      "300\n"
     ]
    }
   ],
   "source": [
    "n = 99\n",
    "while (n<300):\n",
    "    n += 1\n",
    "    if n%12!=0:\n",
    "        continue\n",
    "    print(n)\n",
    "     \n"
   ]
  },
  {
   "attachments": {},
   "cell_type": "markdown",
   "metadata": {},
   "source": [
    "13) Utilizar la función **input()** que permite hacer ingresos por teclado, para encontrar números primos y dar la opción al usario de buscar el siguiente"
   ]
  },
  {
   "cell_type": "code",
   "execution_count": 2,
   "metadata": {},
   "outputs": [],
   "source": [
    "while True:\n",
    "    entrada = input(\"Ingrese un número para encontrar el siguiente número primo (o ingrese 'exit' para salir): \")\n",
    "\n",
    "    if entrada.lower() == 'exit':\n",
    "        break  # Salir del bucle si se ingresa 'exit'\n",
    "\n",
    "    if not entrada.isdigit():\n",
    "        print(\"Por favor, ingrese un número entero válido.\")\n",
    "        continue  # Volver al inicio del bucle si la entrada no es un número entero\n",
    "\n",
    "    num = int(entrada)\n",
    "\n",
    "    if num <= 1:\n",
    "        print(\"Por favor, ingrese un número mayor a 1.\")\n",
    "        continue  # Volver al inicio del bucle si se ingresa un número negativo\n",
    "\n",
    "    primo = True\n",
    "    for div in range(2, num):\n",
    "        if num % div == 0: # Esta condición se utiliza para determinar si el número n no es primo, ya que un número primo solo es divisible por 1 y por sí mismo, Si la condición es verdadera, significa que se ha encontrado un divisor diferente de 1 y n, y por lo tanto, n no es primo.\n",
    "            primo = False\n",
    "            break  # Salir del bucle for si encontramos un divisor\n",
    "    if primo:\n",
    "        print(num, \"Es primo\")\n",
    "    else:\n",
    "        print(num, \" no es primo\")"
   ]
  },
  {
   "attachments": {},
   "cell_type": "markdown",
   "metadata": {},
   "source": [
    "14) Crear un ciclo while que encuentre dentro del rango de 100 a 300 el primer número divisible por 3 y además múltiplo de 6"
   ]
  },
  {
   "cell_type": "code",
   "execution_count": 1,
   "metadata": {},
   "outputs": [
    {
     "name": "stdout",
     "output_type": "stream",
     "text": [
      "El primer número divisible por 3 y múltiplo de 6 en el rango de 100 a 300 es: 102\n"
     ]
    }
   ],
   "source": [
    "numero_actual = 100\n",
    "\n",
    "while numero_actual <= 300:\n",
    "    if numero_actual % 3 == 0 and numero_actual % 6 == 0:\n",
    "        print(f\"El primer número divisible por 3 y múltiplo de 6 en el rango de 100 a 300 es: {numero_actual}\")\n",
    "        break  # Salir del bucle si se encuentra el número buscado\n",
    "    numero_actual += 1\n"
   ]
  }
 ],
 "metadata": {
  "interpreter": {
   "hash": "c85384e4cb51c8b72350f3a8712cc8351fdc3955e32a27f9b60c6242ab125f01"
  },
  "kernelspec": {
   "display_name": "Python 3 (ipykernel)",
   "language": "python",
   "name": "python3"
  },
  "language_info": {
   "codemirror_mode": {
    "name": "ipython",
    "version": 3
   },
   "file_extension": ".py",
   "mimetype": "text/x-python",
   "name": "python",
   "nbconvert_exporter": "python",
   "pygments_lexer": "ipython3",
   "version": "3.11.4"
  }
 },
 "nbformat": 4,
 "nbformat_minor": 4
}
