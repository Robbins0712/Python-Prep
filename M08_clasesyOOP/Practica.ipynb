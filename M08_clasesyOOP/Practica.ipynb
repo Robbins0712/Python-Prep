{
 "cells": [
  {
   "cell_type": "code",
   "execution_count": 1,
   "metadata": {},
   "outputs": [],
   "source": [
    "class gato:\n",
    "    def __init__(self, nombre, edad, raza, sexo):\n",
    "        self.nombre = nombre\n",
    "        self.edad = edad\n",
    "        self.raza = raza\n",
    "        self.sexo = sexo\n",
    "    \n",
    "    #metodo presentar\n",
    "        \n",
    "    def presentar(self):\n",
    "        return print('Nombre: ', self.nombre, 'Edad: ', self.edad, 'Raza:', self.raza, 'Sexo: ',self.sexo)"
   ]
  },
  {
   "cell_type": "code",
   "execution_count": 2,
   "metadata": {},
   "outputs": [],
   "source": [
    "gato1 = gato('Pompon', 2, 'Siames', 'Macho')"
   ]
  },
  {
   "cell_type": "code",
   "execution_count": 3,
   "metadata": {},
   "outputs": [
    {
     "name": "stdout",
     "output_type": "stream",
     "text": [
      "<__main__.gato object at 0x000001FF123AD150>\n"
     ]
    }
   ],
   "source": [
    "print(gato1)"
   ]
  },
  {
   "cell_type": "code",
   "execution_count": 4,
   "metadata": {},
   "outputs": [
    {
     "name": "stdout",
     "output_type": "stream",
     "text": [
      "Nombre:  Pompon Edad:  2 Raza: Siames Sexo:  Macho\n"
     ]
    }
   ],
   "source": [
    "gato1.presentar()"
   ]
  }
 ],
 "metadata": {
  "kernelspec": {
   "display_name": "Python 3",
   "language": "python",
   "name": "python3"
  },
  "language_info": {
   "codemirror_mode": {
    "name": "ipython",
    "version": 3
   },
   "file_extension": ".py",
   "mimetype": "text/x-python",
   "name": "python",
   "nbconvert_exporter": "python",
   "pygments_lexer": "ipython3",
   "version": "3.11.4"
  }
 },
 "nbformat": 4,
 "nbformat_minor": 2
}
