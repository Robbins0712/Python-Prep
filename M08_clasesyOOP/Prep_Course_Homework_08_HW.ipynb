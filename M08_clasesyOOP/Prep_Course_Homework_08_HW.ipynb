{
 "cells": [
  {
   "attachments": {},
   "cell_type": "markdown",
   "metadata": {},
   "source": [
    "## Clases y Programación Orientada a Objetos"
   ]
  },
  {
   "attachments": {},
   "cell_type": "markdown",
   "metadata": {},
   "source": [
    "1) Crear la clase vehículo que contenga los atributos:<br>\n",
    "Color<br>\n",
    "Si es moto, auto, camioneta ó camión<br>\n",
    "Cilindrada del motor"
   ]
  },
  {
   "cell_type": "code",
   "execution_count": 1,
   "metadata": {},
   "outputs": [],
   "source": [
    "class Vehiculo:\n",
    "    def __init__(self, color, tipo, cilindraje):\n",
    "        self.color = color\n",
    "        self.tipo = tipo\n",
    "        self.cilindraje = cilindraje\n",
    "    \n",
    "    #metodo presentar\n",
    "        \n",
    "    def presentar(self):\n",
    "        return print('Color:', self.color, ',Tipo:', self.tipo, ',Cilindraje:', self.cilindraje)\n",
    "      \n"
   ]
  },
  {
   "cell_type": "code",
   "execution_count": 2,
   "metadata": {},
   "outputs": [],
   "source": [
    "vehiculo1 = Vehiculo('Amarillo', 'Camioneta', 3000)\n",
    "vehiculo2 = Vehiculo('Blanco', 'Moto', 800)\n",
    "vehiculo3 = Vehiculo('Azul', 'Carro', 1500)"
   ]
  },
  {
   "cell_type": "code",
   "execution_count": 3,
   "metadata": {},
   "outputs": [
    {
     "name": "stdout",
     "output_type": "stream",
     "text": [
      "Color: Amarillo ,Tipo: Camioneta ,Cilindraje: 3000\n",
      "Color: Blanco ,Tipo: Moto ,Cilindraje: 800\n",
      "Color: Azul ,Tipo: Carro ,Cilindraje: 1500\n"
     ]
    }
   ],
   "source": [
    "vehiculo1.presentar()\n",
    "vehiculo2.presentar()\n",
    "vehiculo3.presentar()\n"
   ]
  },
  {
   "attachments": {},
   "cell_type": "markdown",
   "metadata": {},
   "source": [
    "2) A la clase Vehiculo creada en el punto 1, agregar los siguientes métodos:<br>\n",
    "Acelerar<br>\n",
    "Frenar<br>\n",
    "Doblar<br>"
   ]
  },
  {
   "cell_type": "code",
   "execution_count": 69,
   "metadata": {},
   "outputs": [],
   "source": [
    "class Vehiculo:\n",
    "    def __init__(self, color, tipo, cilindraje):\n",
    "        self.color = color\n",
    "        self.tipo = tipo\n",
    "        self.cilindraje = cilindraje\n",
    "        self.acelerar = 0\n",
    "        self.velocidad = 0\n",
    "        self.direccion = 0\n",
    "\n",
    "        \n",
    "    def Acelerar(self, ace):\n",
    "        self.acelerar += ace\n",
    "\n",
    "    def Frenar(self, vel):\n",
    "        self.velocidad -= vel\n",
    "    \n",
    "    def Doblar(self, grados):\n",
    "        self.direccion += grados"
   ]
  },
  {
   "attachments": {},
   "cell_type": "markdown",
   "metadata": {},
   "source": [
    "3) Instanciar 3 objetos de la clase vehículo y ejecutar sus métodos, probar luego el resultado"
   ]
  },
  {
   "cell_type": "code",
   "execution_count": 70,
   "metadata": {},
   "outputs": [],
   "source": [
    "v1 = Vehiculo('rojo', 'auto', 2000)  \n",
    "v2 = Vehiculo('blanco', 'camioneta', 5000) \n",
    "v3 = Vehiculo('negro', 'moto', 1000)  "
   ]
  },
  {
   "cell_type": "code",
   "execution_count": 72,
   "metadata": {},
   "outputs": [],
   "source": [
    "v1.Acelerar(40)\n",
    "v2.Acelerar(60)\n",
    "v3.Acelerar(30)\n",
    "v1.Doblar(30)\n",
    "v2.Doblar(20)\n",
    "v3.Doblar(10)\n",
    "v1.Frenar(-50)\n",
    "v2.Frenar(-30)\n",
    "v3.Frenar(-10)\n"
   ]
  },
  {
   "attachments": {},
   "cell_type": "markdown",
   "metadata": {},
   "source": [
    "4) Agregar a la clase Vehiculo, un método que muestre su estado, es decir, a que velocidad se encuentra y su dirección. Y otro método que muestre color, tipo y cilindrada"
   ]
  },
  {
   "cell_type": "code",
   "execution_count": 62,
   "metadata": {},
   "outputs": [],
   "source": [
    "class Vehiculo:\n",
    "    def __init__(self, color, tipo, cilindraje):\n",
    "        self.color = color\n",
    "        self.tipo = tipo\n",
    "        self.cilindraje = cilindraje\n",
    "        self.acelerar = 0\n",
    "        self.velocidad = 40\n",
    "        self.direccion = 30\n",
    "\n",
    "        \n",
    "    def Acelerar(self, ace):\n",
    "        self.acelerar += ace\n",
    "\n",
    "    def Frenar(self, vel):\n",
    "        self.velocidad -= vel\n",
    "    \n",
    "    def Doblar(self, grados):\n",
    "        self.direccion += grados\n",
    "\n",
    "\n",
    "    def Detalle(self):\n",
    "        print('Soy', self.tipo, 'de color', self.color, 'y mi cilindrada es de', self.cilindraje, 'litros')\n",
    "\n",
    "    def Estado(self): #Método para imprimir el estado actual del vehículo.\n",
    "            print('Velocidad:', self.velocidad, 'Kms/h' '- Dirección:', self.direccion, 'grados') #Muestra la velocidad y dirección.\n",
    "\n",
    "    def Detalle(self): #Método para imprimir los detalles del vehículo.\n",
    "            print('Soy', self.tipo, 'de color', self.color, 'y mi cilindrada es de', self.cilindraje, 'litros') #Muestra el tipo, color y cilindrada."
   ]
  },
  {
   "cell_type": "code",
   "execution_count": 63,
   "metadata": {},
   "outputs": [],
   "source": [
    "v1 = Vehiculo('rojo', 'auto', 2)  # Creación de un objeto \"Vehiculo\" con color rojo, tipo auto y cilindrada 2.\n",
    "v2 = Vehiculo('blanco', 'camioneta', 3.6)  # Creación de un objeto \"Vehiculo\" con color blanco, tipo camioneta y cilindrada 3.6.\n",
    "v3 = Vehiculo('negro', 'moto', 1)  # Creación de un objeto \"Vehiculo\" con color negro, tipo moto y cilindrada 1."
   ]
  },
  {
   "cell_type": "code",
   "execution_count": 64,
   "metadata": {},
   "outputs": [
    {
     "name": "stdout",
     "output_type": "stream",
     "text": [
      "Soy auto de color rojo y mi cilindrada es de 2 litros\n",
      "Velocidad: 40 Kms/h- Dirección: 30 grados\n",
      "Soy camioneta de color blanco y mi cilindrada es de 3.6 litros\n",
      "Velocidad: 40 Kms/h- Dirección: 30 grados\n"
     ]
    }
   ],
   "source": [
    "v1.Detalle()\n",
    "v1.Estado()\n",
    "v1.Acelerar(30)\n",
    "\n",
    "v2.Detalle()\n",
    "v2.Estado()\n",
    "v2.Acelerar(30)"
   ]
  },
  {
   "attachments": {},
   "cell_type": "markdown",
   "metadata": {},
   "source": [
    "5) Crear una clase que permita utilizar las funciones creadas en la práctica del módulo 7<br>\n",
    "Verificar Primo<br>\n",
    "Valor modal<br>\n",
    "Conversión grados<br>\n",
    "Factorial<br>"
   ]
  },
  {
   "cell_type": "code",
   "execution_count": 81,
   "metadata": {},
   "outputs": [],
   "source": [
    "class FuncionesModuloAnterior:\n",
    "    def __init__(self) -> None:\n",
    "        pass\n",
    "\n",
    "    def es_primo(self, numero):\n",
    "        if numero < 2:\n",
    "            return False\n",
    "        for i in range(2, int(numero**0.5) + 1):\n",
    "            if numero % i == 0:\n",
    "                return False\n",
    "        return True\n",
    "     \n",
    "\n",
    "    def convertir_temperatura(self, valor, medida_origen, medida_destino):\n",
    "        if medida_origen == \"C\" and medida_destino == \"F\":\n",
    "          return (valor * 9/5) + 32\n",
    "        elif medida_origen == \"C\" and medida_destino == \"K\":\n",
    "             return valor + 273.15\n",
    "        elif medida_origen == \"F\" and medida_destino == \"C\":\n",
    "            return (valor - 32) * 5 / 9\n",
    "        elif medida_origen == \"F\"  and medida_destino == \"K\":\n",
    "            return ((valor - 32) * 5 / 9) + 273.15\n",
    "        elif medida_origen == \"K\" and medida_destino == \"F\":\n",
    "            return ((valor - 273.15) * 9 / 5) + 32\n",
    "        elif medida_origen == \"K\"  and medida_destino == \"C\":\n",
    "            return valor - 273.15\n",
    "        else:\n",
    "            print('Parámetro de Destino incorrecto')\n",
    "\n",
    "    def factorial(self,numero):\n",
    "        if (numero > 1):\n",
    "              numero = numero * self.factorial(numero-1)\n",
    "        return numero"
   ]
  },
  {
   "cell_type": "markdown",
   "metadata": {},
   "source": [
    "6) Probar las funciones incorporadas en la clase del punto 5"
   ]
  },
  {
   "cell_type": "code",
   "execution_count": 82,
   "metadata": {},
   "outputs": [],
   "source": [
    "t = FuncionesModuloAnterior()"
   ]
  },
  {
   "cell_type": "code",
   "execution_count": 83,
   "metadata": {},
   "outputs": [
    {
     "data": {
      "text/plain": [
       "True"
      ]
     },
     "execution_count": 83,
     "metadata": {},
     "output_type": "execute_result"
    }
   ],
   "source": [
    "t.es_primo(17)"
   ]
  },
  {
   "cell_type": "code",
   "execution_count": 84,
   "metadata": {},
   "outputs": [
    {
     "data": {
      "text/plain": [
       "6"
      ]
     },
     "execution_count": 84,
     "metadata": {},
     "output_type": "execute_result"
    }
   ],
   "source": [
    "t.factorial(3)"
   ]
  },
  {
   "cell_type": "code",
   "execution_count": 85,
   "metadata": {},
   "outputs": [
    {
     "data": {
      "text/plain": [
       "35.6"
      ]
     },
     "execution_count": 85,
     "metadata": {},
     "output_type": "execute_result"
    }
   ],
   "source": [
    "t.convertir_temperatura(2,\"C\",\"F\")"
   ]
  },
  {
   "attachments": {},
   "cell_type": "markdown",
   "metadata": {},
   "source": [
    "7) Es necesario que la clase creada en el punto 5 contenga una lista, sobre la cual se apliquen las funciones incorporadas"
   ]
  },
  {
   "cell_type": "code",
   "execution_count": 97,
   "metadata": {},
   "outputs": [],
   "source": [
    "class FuncionesModuloAnterior:\n",
    "    def __init__(self, lista_numeros):\n",
    "        self.lista = lista_numeros\n",
    "\n",
    "    def es_primo(self):\n",
    "        for i in self.lista:\n",
    "            if (self.__es_primo(i)):\n",
    "                print('El elemento', i, 'SI es un numero primo')\n",
    "            else:\n",
    "                print('El elemento', i, 'NO es un numero primo')\n",
    "    \n",
    "    def convertir_temperatura(self, origen, destino):\n",
    "        for i in self.lista:\n",
    "            print(i, 'grados', origen, 'son', self.__convertir_temperatura(i, origen, destino),'grados',destino)\n",
    "\n",
    "    def factorial(self):\n",
    "        for i in self.lista:\n",
    "            print('El factorial de ', i, 'es', self.__factorial(i))\n",
    "\n",
    "\n",
    "    def __es_primo(self, nro):\n",
    "        es_primo = True\n",
    "        for i in range(2, nro):\n",
    "            if nro % i == 0:\n",
    "                es_primo = False\n",
    "                break\n",
    "        return es_primo\n",
    "    \n",
    "\n",
    "    def __convertir_temperatura(self, valor, medida_origen, medida_destino):\n",
    "        if medida_origen == \"C\" and medida_destino == \"F\":\n",
    "          return (valor * 9/5) + 32\n",
    "        elif medida_origen == \"C\" and medida_destino == \"K\":\n",
    "             return valor + 273.15\n",
    "        elif medida_origen == \"F\" and medida_destino == \"C\":\n",
    "            return (valor - 32) * 5 / 9\n",
    "        elif medida_origen == \"F\"  and medida_destino == \"K\":\n",
    "            return ((valor - 32) * 5 / 9) + 273.15\n",
    "        elif medida_origen == \"K\" and medida_destino == \"F\":\n",
    "            return ((valor - 273.15) * 9 / 5) + 32\n",
    "        elif medida_origen == \"K\"  and medida_destino == \"C\":\n",
    "            return valor - 273.15\n",
    "        else:\n",
    "            print('Parámetro de Destino incorrecto')\n",
    "\n",
    "    def __factorial(self,numero):\n",
    "        if numero < 0:\n",
    "            return \"No se puede calcular el factorial de un número negativo\"\n",
    "        elif numero == 0 or numero == 1:\n",
    "            return 1\n",
    "        else:\n",
    "            resultado = 1\n",
    "            for i in range(2, numero + 1):\n",
    "                resultado *= i\n",
    "            return resultado"
   ]
  },
  {
   "cell_type": "code",
   "execution_count": 98,
   "metadata": {},
   "outputs": [],
   "source": [
    "h = FuncionesModuloAnterior([1,1,2,5,8,8,9,11,15,16,16,16,18,20])"
   ]
  },
  {
   "cell_type": "code",
   "execution_count": 99,
   "metadata": {},
   "outputs": [
    {
     "name": "stdout",
     "output_type": "stream",
     "text": [
      "1 grados C son 33.8 grados F\n",
      "1 grados C son 33.8 grados F\n",
      "2 grados C son 35.6 grados F\n",
      "5 grados C son 41.0 grados F\n",
      "8 grados C son 46.4 grados F\n",
      "8 grados C son 46.4 grados F\n",
      "9 grados C son 48.2 grados F\n",
      "11 grados C son 51.8 grados F\n",
      "15 grados C son 59.0 grados F\n",
      "16 grados C son 60.8 grados F\n",
      "16 grados C son 60.8 grados F\n",
      "16 grados C son 60.8 grados F\n",
      "18 grados C son 64.4 grados F\n",
      "20 grados C son 68.0 grados F\n"
     ]
    }
   ],
   "source": [
    "h.convertir_temperatura('C','F')"
   ]
  },
  {
   "cell_type": "code",
   "execution_count": 100,
   "metadata": {},
   "outputs": [
    {
     "name": "stdout",
     "output_type": "stream",
     "text": [
      "El elemento 1 SI es un numero primo\n",
      "El elemento 1 SI es un numero primo\n",
      "El elemento 2 SI es un numero primo\n",
      "El elemento 5 SI es un numero primo\n",
      "El elemento 8 NO es un numero primo\n",
      "El elemento 8 NO es un numero primo\n",
      "El elemento 9 NO es un numero primo\n",
      "El elemento 11 SI es un numero primo\n",
      "El elemento 15 NO es un numero primo\n",
      "El elemento 16 NO es un numero primo\n",
      "El elemento 16 NO es un numero primo\n",
      "El elemento 16 NO es un numero primo\n",
      "El elemento 18 NO es un numero primo\n",
      "El elemento 20 NO es un numero primo\n"
     ]
    }
   ],
   "source": [
    "h.es_primo()"
   ]
  },
  {
   "cell_type": "code",
   "execution_count": 101,
   "metadata": {},
   "outputs": [
    {
     "ename": "TypeError",
     "evalue": "FuncionesModuloAnterior.__factorial() takes 1 positional argument but 2 were given",
     "output_type": "error",
     "traceback": [
      "\u001b[1;31m---------------------------------------------------------------------------\u001b[0m",
      "\u001b[1;31mTypeError\u001b[0m                                 Traceback (most recent call last)",
      "Cell \u001b[1;32mIn[101], line 1\u001b[0m\n\u001b[1;32m----> 1\u001b[0m \u001b[43mh\u001b[49m\u001b[38;5;241;43m.\u001b[39;49m\u001b[43mfactorial\u001b[49m\u001b[43m(\u001b[49m\u001b[43m)\u001b[49m\n",
      "Cell \u001b[1;32mIn[97], line 18\u001b[0m, in \u001b[0;36mFuncionesModuloAnterior.factorial\u001b[1;34m(self)\u001b[0m\n\u001b[0;32m     16\u001b[0m \u001b[38;5;28;01mdef\u001b[39;00m \u001b[38;5;21mfactorial\u001b[39m(\u001b[38;5;28mself\u001b[39m):\n\u001b[0;32m     17\u001b[0m     \u001b[38;5;28;01mfor\u001b[39;00m i \u001b[38;5;129;01min\u001b[39;00m \u001b[38;5;28mself\u001b[39m\u001b[38;5;241m.\u001b[39mlista:\n\u001b[1;32m---> 18\u001b[0m         \u001b[38;5;28mprint\u001b[39m(\u001b[38;5;124m'\u001b[39m\u001b[38;5;124mEl factorial de \u001b[39m\u001b[38;5;124m'\u001b[39m, i, \u001b[38;5;124m'\u001b[39m\u001b[38;5;124mes\u001b[39m\u001b[38;5;124m'\u001b[39m, \u001b[38;5;28;43mself\u001b[39;49m\u001b[38;5;241;43m.\u001b[39;49m\u001b[43m__factorial\u001b[49m\u001b[43m(\u001b[49m\u001b[43mi\u001b[49m\u001b[43m)\u001b[49m)\n",
      "\u001b[1;31mTypeError\u001b[0m: FuncionesModuloAnterior.__factorial() takes 1 positional argument but 2 were given"
     ]
    }
   ],
   "source": [
    "h.factorial()"
   ]
  },
  {
   "cell_type": "code",
   "execution_count": null,
   "metadata": {},
   "outputs": [],
   "source": []
  },
  {
   "attachments": {},
   "cell_type": "markdown",
   "metadata": {},
   "source": [
    "8) Crear un archivo .py aparte y ubicar allí la clase generada en el punto anterior. Luego realizar la importación del módulo y probar alguna de sus funciones"
   ]
  },
  {
   "cell_type": "code",
   "execution_count": null,
   "metadata": {},
   "outputs": [],
   "source": []
  }
 ],
 "metadata": {
  "interpreter": {
   "hash": "c85384e4cb51c8b72350f3a8712cc8351fdc3955e32a27f9b60c6242ab125f01"
  },
  "kernelspec": {
   "display_name": "Python 3 (ipykernel)",
   "language": "python",
   "name": "python3"
  },
  "language_info": {
   "codemirror_mode": {
    "name": "ipython",
    "version": 3
   },
   "file_extension": ".py",
   "mimetype": "text/x-python",
   "name": "python",
   "nbconvert_exporter": "python",
   "pygments_lexer": "ipython3",
   "version": "3.11.4"
  }
 },
 "nbformat": 4,
 "nbformat_minor": 4
}
