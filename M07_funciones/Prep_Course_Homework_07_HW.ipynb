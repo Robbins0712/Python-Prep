{
 "cells": [
  {
   "attachments": {},
   "cell_type": "markdown",
   "metadata": {},
   "source": [
    "## Funciones"
   ]
  },
  {
   "attachments": {},
   "cell_type": "markdown",
   "metadata": {},
   "source": [
    "1) Crear una función que reciba un número como parámetro y devuelva True si es primo y False si no lo es"
   ]
  },
  {
   "cell_type": "code",
   "execution_count": 3,
   "metadata": {},
   "outputs": [],
   "source": [
    "def es_primo(numero):\n",
    "    if numero < 2:\n",
    "        return False\n",
    "    for i in range(2, int(numero**0.5) + 1):\n",
    "        if numero % i == 0:\n",
    "            return False\n",
    "    return True"
   ]
  },
  {
   "cell_type": "code",
   "execution_count": 4,
   "metadata": {},
   "outputs": [
    {
     "data": {
      "text/plain": [
       "True"
      ]
     },
     "execution_count": 4,
     "metadata": {},
     "output_type": "execute_result"
    }
   ],
   "source": [
    "es_primo(17)"
   ]
  },
  {
   "attachments": {},
   "cell_type": "markdown",
   "metadata": {},
   "source": [
    "2) Utilizando la función del punto 1, realizar otra función que reciba de parámetro una lista de números y devuelva sólo aquellos que son primos en otra lista"
   ]
  },
  {
   "cell_type": "code",
   "execution_count": 8,
   "metadata": {},
   "outputs": [],
   "source": [
    "def extrae_primos_de_lista(lista):\n",
    "    lista_primos = []\n",
    "    for elemento in lista:\n",
    "        if es_primo(int(elemento)):\n",
    "            lista_primos.append(elemento)\n",
    "    return lista_primos"
   ]
  },
  {
   "cell_type": "code",
   "execution_count": 9,
   "metadata": {},
   "outputs": [
    {
     "data": {
      "text/plain": [
       "[2, 7]"
      ]
     },
     "execution_count": 9,
     "metadata": {},
     "output_type": "execute_result"
    }
   ],
   "source": [
    "extrae_primos_de_lista([2,4,6,7,8,9])"
   ]
  },
  {
   "attachments": {},
   "cell_type": "markdown",
   "metadata": {},
   "source": [
    "3) Crear una función que al recibir una lista de números, devuelva el que más se repite y cuántas veces lo hace. Si hay más de un \"más repetido\", que devuelva cualquiera"
   ]
  },
  {
   "cell_type": "code",
   "execution_count": 8,
   "metadata": {},
   "outputs": [],
   "source": [
    "def repetidos(lista):\n",
    "\n",
    "    numero_mas_repetido = None\n",
    "    repeticiones_maximas = 0\n",
    "\n",
    "    for i in lista:\n",
    "        repeticiones = lista.count(i)\n",
    "        if repeticiones > repeticiones_maximas:\n",
    "            repeticiones_maximas = repeticiones\n",
    "            numero_mas_repetido = i\n",
    "\n",
    "    return numero_mas_repetido, repeticiones_maximas\n"
   ]
  },
  {
   "cell_type": "code",
   "execution_count": 9,
   "metadata": {},
   "outputs": [
    {
     "data": {
      "text/plain": [
       "(4, 3)"
      ]
     },
     "execution_count": 9,
     "metadata": {},
     "output_type": "execute_result"
    }
   ],
   "source": [
    "repetidos([1,1,2,3,4,4,4,5,6,7,7,8])"
   ]
  },
  {
   "cell_type": "code",
   "execution_count": 16,
   "metadata": {},
   "outputs": [
    {
     "data": {
      "text/plain": [
       "(2, 7)"
      ]
     },
     "execution_count": 16,
     "metadata": {},
     "output_type": "execute_result"
    }
   ],
   "source": [
    "mi_lista = [1, 2, 3, 4, 2, 5, 2, 6, 2, 7, 2, 8, 2, 9, 2]\n",
    "repetidos(mi_lista)"
   ]
  },
  {
   "attachments": {},
   "cell_type": "markdown",
   "metadata": {},
   "source": [
    "4) Crear una función que convierta entre grados Celsius, Farenheit y Kelvin<br>\n",
    "Fórmula 1\t: (°C × 9/5) + 32 = °F<br>\n",
    "Fórmula 2\t: °C + 273.15 = °K<br>\n",
    "Debe recibir 3 parámetros: el valor, la medida de orígen y la medida de destino\n"
   ]
  },
  {
   "cell_type": "code",
   "execution_count": 38,
   "metadata": {},
   "outputs": [],
   "source": [
    "def convertir_temperatura(valor, medida_origen, medida_destino):\n",
    "\tif medida_origen == \"C\" and medida_destino == \"F\":\n",
    "\t\treturn (valor * 9/5) + 32\n",
    "\telif medida_origen == \"C\" and medida_destino == \"K\":\n",
    "\t\treturn valor + 273.15\n",
    "\telif medida_origen == \"F\" and medida_destino == \"C\":\n",
    "\t\treturn (valor - 32) * 5 / 9\n",
    "\telif medida_origen == \"F\"  and medida_destino == \"K\":\n",
    "\t\treturn ((valor - 32) * 5 / 9) + 273.15\n",
    "\telif medida_origen == \"K\" and medida_destino == \"F\":\n",
    "\t\treturn ((valor - 273.15) * 9 / 5) + 32\n",
    "\telif medida_origen == \"K\"  and medida_destino == \"C\":\n",
    "\t\treturn valor - 273.15\n",
    "\telse:\n",
    "\t\tprint('Parámetro de Destino incorrecto')\n",
    "\t"
   ]
  },
  {
   "cell_type": "code",
   "execution_count": 29,
   "metadata": {},
   "outputs": [
    {
     "name": "stdout",
     "output_type": "stream",
     "text": [
      "5 grados Celsius a Farenheit: 41.0\n",
      "5 grados Celsius a Kelvin: 278.15\n",
      "5 grados Farenheit a Celsius: -15.0\n",
      "5 grados Farenheit a Kelvin: 258.15\n",
      "5 grados Kelvin a Celsius: -268.15\n",
      "5 grados Kelvin a Farenheit: -450.66999999999996\n"
     ]
    }
   ],
   "source": [
    "print('5 grados Celsius a Farenheit:', convertir_temperatura(5, \"C\", \"F\"))\n",
    "print('5 grados Celsius a Kelvin:',convertir_temperatura(5, \"C\", \"K\"))\n",
    "print('5 grados Farenheit a Celsius:',convertir_temperatura(5, \"F\", \"C\"))\n",
    "print('5 grados Farenheit a Kelvin:',convertir_temperatura(5, \"F\", \"K\"))\n",
    "print('5 grados Kelvin a Celsius:',convertir_temperatura(5, \"K\", \"C\"))\n",
    "print('5 grados Kelvin a Farenheit:',convertir_temperatura(5, \"K\", \"F\"))"
   ]
  },
  {
   "attachments": {},
   "cell_type": "markdown",
   "metadata": {},
   "source": [
    "5) Iterando una lista con los tres valores posibles de temperatura que recibe la función del punto 5, hacer un print para cada combinación de los mismos:"
   ]
  },
  {
   "cell_type": "code",
   "execution_count": 56,
   "metadata": {},
   "outputs": [
    {
     "name": "stdout",
     "output_type": "stream",
     "text": [
      "0 C es igual a 32.0 F y 273.15 K\n",
      "25 C es igual a 77.0 F y 298.15 K\n",
      "100 C es igual a 212.0 F y 373.15 K\n",
      "0 C es igual a -17.77777777777778 F y 255.3722222222222 K\n",
      "25 C es igual a -3.888888888888889 F y 269.26111111111106 K\n",
      "100 C es igual a 37.77777777777778 F y 310.92777777777775 K\n",
      "0 C es igual a -459.66999999999996 F y -273.15 K\n",
      "25 C es igual a -414.66999999999996 F y -248.14999999999998 K\n",
      "100 C es igual a -279.66999999999996 F y -173.14999999999998 K\n"
     ]
    }
   ],
   "source": [
    "temperaturas= [0, 25, 100]\n",
    "\n",
    "\n",
    "for temp_celsius in temperaturas:\n",
    "    temp_fahrenheit = convertir_temperatura(temp_celsius, \"C\", \"F\")\n",
    "    temp_kelvin = convertir_temperatura(temp_celsius, \"C\", \"K\")\n",
    "\n",
    "    print(f\"{temp_celsius} C es igual a {temp_fahrenheit} F y {temp_kelvin} K\")\n",
    "\n",
    "for temp_f in temperaturas:\n",
    "    temp_celsius = convertir_temperatura(temp_f, \"F\", \"C\")\n",
    "    temp_kelvin = convertir_temperatura(temp_f, \"F\", \"K\")\n",
    "\n",
    "    print(f\"{temp_f} C es igual a {temp_celsius} F y {temp_kelvin} K\")\n",
    "\n",
    "for temp_k in temperaturas:\n",
    "    temp_faren = convertir_temperatura(temp_k, \"K\", \"F\")\n",
    "    temp_C = convertir_temperatura(temp_k, \"K\", \"C\")\n",
    "\n",
    "    print(f\"{temp_k} C es igual a {temp_faren} F y {temp_C} K\")"
   ]
  },
  {
   "attachments": {},
   "cell_type": "markdown",
   "metadata": {},
   "source": [
    "6) Armar una función que devuelva el factorial de un número. Tener en cuenta que el usuario puede equivocarse y enviar de parámetro un número no entero o negativo"
   ]
  },
  {
   "cell_type": "code",
   "execution_count": 4,
   "metadata": {},
   "outputs": [
    {
     "data": {
      "text/plain": [
       "120"
      ]
     },
     "execution_count": 4,
     "metadata": {},
     "output_type": "execute_result"
    }
   ],
   "source": [
    "def factorial(numero):\n",
    "    '''Calcula el factorial de un número'''\n",
    "    if (numero > 1):\n",
    "        numero = numero * factorial(numero-1)\n",
    "    return numero\n",
    "\n",
    "factorial(5)\n",
    "\n"
   ]
  },
  {
   "cell_type": "code",
   "execution_count": 5,
   "metadata": {},
   "outputs": [
    {
     "name": "stdout",
     "output_type": "stream",
     "text": [
      "Help on function factorial in module __main__:\n",
      "\n",
      "factorial(numero)\n",
      "    Calcula el factorial de un número\n",
      "\n"
     ]
    }
   ],
   "source": [
    "help(factorial)"
   ]
  },
  {
   "cell_type": "code",
   "execution_count": 6,
   "metadata": {},
   "outputs": [],
   "source": [
    "lambda_producto=  lambda x, y, z:x*y*z"
   ]
  },
  {
   "cell_type": "code",
   "execution_count": 7,
   "metadata": {},
   "outputs": [
    {
     "data": {
      "text/plain": [
       "24"
      ]
     },
     "execution_count": 7,
     "metadata": {},
     "output_type": "execute_result"
    }
   ],
   "source": [
    "lambda_producto(3,4,2)"
   ]
  }
 ],
 "metadata": {
  "interpreter": {
   "hash": "c85384e4cb51c8b72350f3a8712cc8351fdc3955e32a27f9b60c6242ab125f01"
  },
  "kernelspec": {
   "display_name": "Python 3 (ipykernel)",
   "language": "python",
   "name": "python3"
  },
  "language_info": {
   "codemirror_mode": {
    "name": "ipython",
    "version": 3
   },
   "file_extension": ".py",
   "mimetype": "text/x-python",
   "name": "python",
   "nbconvert_exporter": "python",
   "pygments_lexer": "ipython3",
   "version": "3.11.4"
  }
 },
 "nbformat": 4,
 "nbformat_minor": 4
}
