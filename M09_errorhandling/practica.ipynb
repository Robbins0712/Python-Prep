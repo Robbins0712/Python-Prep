{
 "cells": [
  {
   "cell_type": "markdown",
   "metadata": {},
   "source": [
    "# Pruebas de caja negra"
   ]
  },
  {
   "cell_type": "code",
   "execution_count": 1,
   "metadata": {},
   "outputs": [],
   "source": [
    "import unittest"
   ]
  },
  {
   "cell_type": "code",
   "execution_count": 2,
   "metadata": {},
   "outputs": [],
   "source": [
    "def suma(num1, num2):\n",
    "    return num1 + num2"
   ]
  },
  {
   "cell_type": "markdown",
   "metadata": {},
   "source": [
    "A continuacion definimos una clase de prueba llamada CajaNegraTest, que hereda de la clase unittest .testcase, en esta clase hay dos metodos de prueba:\n",
    "test suma 2 positivos y test suma 2 negativos\n",
    "estos metodos prueban la funion suma pasandole diferentes tipos de argumento y comparando su resultado con un valor esperado utilizando el metodo assertEqual de la clase testCase\n"
   ]
  },
  {
   "cell_type": "code",
   "execution_count": 14,
   "metadata": {},
   "outputs": [],
   "source": [
    "class CajaNegraTest(unittest.TestCase):\n",
    "    def test_suma_dos_positivos(self):\n",
    "        num1 = 5\n",
    "        num2 = 10\n",
    "        resultado = suma(num1, num2)\n",
    "\n",
    "        self.assertEqual(resultado, 15)\n",
    "\n",
    "    def test_suma_dos_negativos(self):\n",
    "        num1 = -10\n",
    "        num2 = -7\n",
    "        resultado = suma(num1, num2)\n",
    "\n",
    "        self.assertEqual(resultado, -17)"
   ]
  },
  {
   "cell_type": "markdown",
   "metadata": {},
   "source": [
    "Se ejcutan todas las prueba definidas en la clase CajaNegraTest utilizando el metodo MAIN de la clase unittest, esto significa que al utilizar el metodo MAIN se ejecutaran todas la pruebas definidas en la clase CajaNegraTest\n",
    "\n",
    "El argumento argv se utiliza para proporcionar argumentos de lineas de comando a la prueba, en este caso se pasa un unico argumento vacio que no tiene ningun efecto en la ejecucion de la prueba\n",
    "\n",
    "El argumento exit se utiliza para indicar si se debe detener la ejecucion despues de ejecutar las pruebas y al establecer exit en False la ejecucion continuara despues de que se ejecuten las pruebas lo que permite cualquier codigo adicionar en el archivo de prueba que se ejecute, si hubiera sido establecido en True la ejecucion depsues que se ejecuten las pruebas"
   ]
  },
  {
   "cell_type": "code",
   "execution_count": 16,
   "metadata": {},
   "outputs": [
    {
     "name": "stderr",
     "output_type": "stream",
     "text": [
      "test_suma_dos_negativos (__main__.CajaNegraTest.test_suma_dos_negativos) ... ok\n",
      "test_suma_dos_positivos (__main__.CajaNegraTest.test_suma_dos_positivos) ... ok\n",
      "\n",
      "----------------------------------------------------------------------\n",
      "Ran 2 tests in 0.002s\n",
      "\n",
      "OK\n"
     ]
    },
    {
     "ename": "NameError",
     "evalue": "name 'test_suma_dos_positivos' is not defined",
     "output_type": "error",
     "traceback": [
      "\u001b[1;31m---------------------------------------------------------------------------\u001b[0m",
      "\u001b[1;31mNameError\u001b[0m                                 Traceback (most recent call last)",
      "Cell \u001b[1;32mIn[16], line 2\u001b[0m\n\u001b[0;32m      1\u001b[0m unittest\u001b[38;5;241m.\u001b[39mmain(argv\u001b[38;5;241m=\u001b[39m[\u001b[38;5;124m\"\u001b[39m\u001b[38;5;124m\"\u001b[39m], verbosity\u001b[38;5;241m=\u001b[39m\u001b[38;5;241m2\u001b[39m, exit\u001b[38;5;241m=\u001b[39m\u001b[38;5;28;01mFalse\u001b[39;00m)\n\u001b[1;32m----> 2\u001b[0m \u001b[43mtest_suma_dos_positivos\u001b[49m(__main__\u001b[38;5;241m.\u001b[39mCajaNegraTest)\n\u001b[0;32m      3\u001b[0m test_suma_dos_negativos(__main__\u001b[38;5;241m.\u001b[39mCajaNegraTest)\n",
      "\u001b[1;31mNameError\u001b[0m: name 'test_suma_dos_positivos' is not defined"
     ]
    }
   ],
   "source": [
    "unittest.main(argv=[\"\"], verbosity=2, exit=False)\n",
    "test_suma_dos_positivos(__main__.CajaNegraTest)\n",
    "test_suma_dos_negativos(__main__.CajaNegraTest)"
   ]
  },
  {
   "cell_type": "markdown",
   "metadata": {},
   "source": [
    "# Pruebas de Caja de Cristal"
   ]
  },
  {
   "cell_type": "markdown",
   "metadata": {},
   "source": []
  },
  {
   "cell_type": "code",
   "execution_count": 17,
   "metadata": {},
   "outputs": [],
   "source": [
    "import unittest\n"
   ]
  },
  {
   "cell_type": "code",
   "execution_count": 18,
   "metadata": {},
   "outputs": [],
   "source": [
    "def es_mayor_de_edad(edad):\n",
    "    if edad >= 18:\n",
    "        return True\n",
    "    else:\n",
    "        return False"
   ]
  },
  {
   "cell_type": "code",
   "execution_count": 21,
   "metadata": {},
   "outputs": [],
   "source": [
    "class PruebaDeCristalTest(unittest.TestCase):\n",
    "    def Test_es_mayor_de_edad(self):\n",
    "        edad = 20\n",
    "        resultado = es_mayor_de_edad(20)\n",
    "        self.assertEqual(resultado, True)\n",
    "\n",
    "    def Test_es_menor_de_edad(self):\n",
    "        edad = 15\n",
    "        resultado = es_mayor_de_edad(edad)\n",
    "        self.assertEqual(resultado, False)"
   ]
  },
  {
   "cell_type": "code",
   "execution_count": 22,
   "metadata": {},
   "outputs": [
    {
     "name": "stderr",
     "output_type": "stream",
     "text": [
      "test_suma_dos_negativos (__main__.CajaNegraTest.test_suma_dos_negativos) ... ok\n",
      "test_suma_dos_positivos (__main__.CajaNegraTest.test_suma_dos_positivos) ... ok\n",
      "\n",
      "----------------------------------------------------------------------\n",
      "Ran 2 tests in 0.002s\n",
      "\n",
      "OK\n"
     ]
    },
    {
     "data": {
      "text/plain": [
       "<unittest.main.TestProgram at 0x15c156041d0>"
      ]
     },
     "execution_count": 22,
     "metadata": {},
     "output_type": "execute_result"
    }
   ],
   "source": [
    "unittest.main(argv=[\"\"], verbosity=2, exit=False)"
   ]
  },
  {
   "cell_type": "markdown",
   "metadata": {},
   "source": [
    "En sintesis:\n",
    "Prueba de Caja De Cristal\n",
    "- Identifica y evalua cada camino logico posible\n",
    "- Brinda visibilidad completa del codigo\n",
    "- Permite detectar errores de prgramacion como bucles inficnitos, division por cero, etc."
   ]
  },
  {
   "cell_type": "markdown",
   "metadata": {},
   "source": []
  },
  {
   "cell_type": "markdown",
   "metadata": {},
   "source": [
    "# Debugging"
   ]
  },
  {
   "cell_type": "code",
   "execution_count": 37,
   "metadata": {},
   "outputs": [],
   "source": [
    "def multiplica_por_dos1(lista):\n",
    "    lista_multiplicada = []\n",
    "    for num in lista:\n",
    "        lista_multiplicada.append(num*2)\n",
    "    return lista_multiplicada\n"
   ]
  },
  {
   "cell_type": "code",
   "execution_count": 38,
   "metadata": {},
   "outputs": [
    {
     "name": "stdout",
     "output_type": "stream",
     "text": [
      "[2, 4, 6, 8]\n"
     ]
    }
   ],
   "source": [
    "numeros = [1,2,3,4]\n",
    "resultado = multiplica_por_dos1(numeros)\n",
    "print(resultado)"
   ]
  },
  {
   "cell_type": "code",
   "execution_count": 39,
   "metadata": {},
   "outputs": [],
   "source": [
    "def multiplica_por_dos2(lista):\n",
    "    for num in lista:\n",
    "        lista_multiplicada.append(num*2)\n",
    "    return lista_multiplicada"
   ]
  },
  {
   "cell_type": "code",
   "execution_count": 40,
   "metadata": {},
   "outputs": [
    {
     "ename": "NameError",
     "evalue": "name 'lista_multiplicada' is not defined",
     "output_type": "error",
     "traceback": [
      "\u001b[1;31m---------------------------------------------------------------------------\u001b[0m",
      "\u001b[1;31mNameError\u001b[0m                                 Traceback (most recent call last)",
      "Cell \u001b[1;32mIn[40], line 2\u001b[0m\n\u001b[0;32m      1\u001b[0m numeros \u001b[38;5;241m=\u001b[39m [\u001b[38;5;241m1\u001b[39m,\u001b[38;5;241m2\u001b[39m,\u001b[38;5;241m3\u001b[39m,\u001b[38;5;241m4\u001b[39m]\n\u001b[1;32m----> 2\u001b[0m resultado \u001b[38;5;241m=\u001b[39m \u001b[43mmultiplica_por_dos2\u001b[49m\u001b[43m(\u001b[49m\u001b[43mnumeros\u001b[49m\u001b[43m)\u001b[49m\n\u001b[0;32m      3\u001b[0m \u001b[38;5;28mprint\u001b[39m(resultado)\n",
      "Cell \u001b[1;32mIn[39], line 3\u001b[0m, in \u001b[0;36mmultiplica_por_dos2\u001b[1;34m(lista)\u001b[0m\n\u001b[0;32m      1\u001b[0m \u001b[38;5;28;01mdef\u001b[39;00m \u001b[38;5;21mmultiplica_por_dos2\u001b[39m(lista):\n\u001b[0;32m      2\u001b[0m     \u001b[38;5;28;01mfor\u001b[39;00m num \u001b[38;5;129;01min\u001b[39;00m lista:\n\u001b[1;32m----> 3\u001b[0m         \u001b[43mlista_multiplicada\u001b[49m\u001b[38;5;241m.\u001b[39mappend(num\u001b[38;5;241m*\u001b[39m\u001b[38;5;241m2\u001b[39m)\n\u001b[0;32m      4\u001b[0m     \u001b[38;5;28;01mreturn\u001b[39;00m lista_multiplicada\n",
      "\u001b[1;31mNameError\u001b[0m: name 'lista_multiplicada' is not defined"
     ]
    }
   ],
   "source": [
    "numeros = [1,2,3,4]\n",
    "resultado = multiplica_por_dos2(numeros)\n",
    "print(resultado)"
   ]
  },
  {
   "cell_type": "markdown",
   "metadata": {},
   "source": [
    "# Manejo de excepciones"
   ]
  },
  {
   "cell_type": "code",
   "execution_count": 41,
   "metadata": {},
   "outputs": [],
   "source": [
    "def divide_elementos_de_lista(lista, divisor):\n",
    "\n",
    "    '''\n",
    "    Cada elemento de una lista es dividida por un divisor definido. \n",
    "    En caso de error de tipo ZeroDivisionError que significa error al dividir en cero \n",
    "    la funcion devuelve la lista inicial\n",
    "    '''\n",
    "    try:\n",
    "        return [i / divisor for i in lista] #comprension de lista para crear una nueva lista que tenga los resultados de dividir cada elemento de la lista por el divisor que indiquemos.\n",
    "    except ZeroDivisionError as e: #Si el divisor es cero se levantara una excepcion del tipo ZeroDivisionError\n",
    "        print(e)\n",
    "        return lista #devuelve la lista original si se produjo una excepcion. O devuelve el resultado si no hay error"
   ]
  },
  {
   "cell_type": "code",
   "execution_count": 42,
   "metadata": {},
   "outputs": [
    {
     "name": "stdout",
     "output_type": "stream",
     "text": [
      "division by zero\n",
      "[0, 1, 2, 3, 4, 5, 6, 7, 8, 9]\n"
     ]
    }
   ],
   "source": [
    "lista = list(range(10))\n",
    "divisor = 0\n",
    "print(divide_elementos_de_lista(lista, divisor))"
   ]
  },
  {
   "cell_type": "code",
   "execution_count": 43,
   "metadata": {},
   "outputs": [
    {
     "name": "stdout",
     "output_type": "stream",
     "text": [
      "[0.0, 0.5, 1.0, 1.5, 2.0, 2.5, 3.0, 3.5, 4.0, 4.5]\n"
     ]
    }
   ],
   "source": [
    "lista = list(range(10))\n",
    "divisor = 2\n",
    "print(divide_elementos_de_lista(lista, divisor))"
   ]
  },
  {
   "cell_type": "code",
   "execution_count": null,
   "metadata": {},
   "outputs": [],
   "source": []
  },
  {
   "cell_type": "markdown",
   "metadata": {},
   "source": [
    "# Excepciones, control de flujo y afirmaciones"
   ]
  },
  {
   "cell_type": "code",
   "execution_count": null,
   "metadata": {},
   "outputs": [],
   "source": [
    "\"\"\"\n",
    "try:\n",
    "    #Codigo que puede generar una excepcion\n",
    "\n",
    "except ExceptionType:\n",
    "    #Codigo que maneja la excepcion\n",
    "\n",
    "\"\"\""
   ]
  },
  {
   "cell_type": "code",
   "execution_count": 44,
   "metadata": {},
   "outputs": [],
   "source": [
    "def dividir(num1, num2):\n",
    "    try:\n",
    "        resultado = num1 / num2\n",
    "        return resultado\n",
    "    except ZeroDivisionError:\n",
    "        print(\"No se puede dividir por cero\")\n",
    "        return None"
   ]
  },
  {
   "cell_type": "code",
   "execution_count": 45,
   "metadata": {},
   "outputs": [
    {
     "name": "stdout",
     "output_type": "stream",
     "text": [
      "No se puede dividir por cero\n"
     ]
    }
   ],
   "source": [
    "dividir(10, 0)"
   ]
  },
  {
   "cell_type": "markdown",
   "metadata": {},
   "source": [
    "EAFP (Easier to Ask Forgiveness Than Permission”): It suggests that right away, you should do what you expect to work. If it doesn't work and an exception happens, then just catch the exception and handle it appropriately. \n",
    "\n",
    "Asumir que las operaciones van a funcionar y capturar la excepcion si algo sale mal, en lugar de verificar primero si se pueden hacer o no esas operaciones.\n",
    "\n",
    "Por ejemplo en lugar de verificar primero si un archivo existe antes de intentar abrirlo, podemos simplemente intentar abrirlo y capturar la excepcion si no existe"
   ]
  },
  {
   "cell_type": "code",
   "execution_count": 46,
   "metadata": {},
   "outputs": [
    {
     "name": "stdout",
     "output_type": "stream",
     "text": [
      "El archvio no existe\n"
     ]
    }
   ],
   "source": [
    "try:\n",
    "    with open('archivo.txt','r') as f:\n",
    "        contenido = f.read()\n",
    "except FileNotFoundError:\n",
    "    print('El archvio no existe')"
   ]
  },
  {
   "cell_type": "markdown",
   "metadata": {},
   "source": [
    "Otro ejemplo, al trabajar con diccionarios en Python, en lugar de verificar primero si una clave existe en el diccionario antes de intentar acceder a ella, podemos simplemente intentar acceder a ella y capturar la excepcion de esa clave no existe."
   ]
  },
  {
   "cell_type": "code",
   "execution_count": 52,
   "metadata": {},
   "outputs": [
    {
     "name": "stdout",
     "output_type": "stream",
     "text": [
      "La clave no existe\n"
     ]
    }
   ],
   "source": [
    "paises = {'Mexico':'MX', 'Estados Unidos':'US', 'Canada':'CA'}\n",
    "\n",
    "try:\n",
    "    codigo = paises['Colombia']\n",
    "    print(codigo)\n",
    "except KeyError:\n",
    "    print('La clave no existe')\n"
   ]
  },
  {
   "cell_type": "markdown",
   "metadata": {},
   "source": [
    "# Afirmaciones\n",
    "Conocidas como assertions, son una tecnica de programacion defensiva que se utilizan para verificar si una condicion se cumple o no en un programa. Son muy utiles para detectar y prevenir errores en el codigo"
   ]
  },
  {
   "cell_type": "code",
   "execution_count": null,
   "metadata": {},
   "outputs": [],
   "source": [
    "assert condicion, mensaje_de_error #sintaxis\n",
    "#la condicion debe ser una expresion de tipo booleana, es decir True o False\n",
    "#Si la condicion es False se levanta una excepcion \" assertion error, con el mensaje de error especificado"
   ]
  },
  {
   "cell_type": "markdown",
   "metadata": {},
   "source": [
    "Ejemplo: Supongamos que queremos crear una funcion que nos devuelva la primera letra de cada palabra en una lista, para ello, podemos usar la sgte funcion:"
   ]
  },
  {
   "cell_type": "code",
   "execution_count": 54,
   "metadata": {},
   "outputs": [],
   "source": [
    "def primera_letra(lista_de_palabra):\n",
    "    primera_letra = []\n",
    "\n",
    "    for palabra in lista_de_palabra:\n",
    "        assert type(palabra) == str, f'{palabra} no es string'\n",
    "        assert len(palabra) > 0, 'No se permiten str vacios'\n",
    "        primera_letra.append(palabra[0])\n",
    "\n",
    "    return primera_letra"
   ]
  },
  {
   "cell_type": "code",
   "execution_count": 56,
   "metadata": {},
   "outputs": [
    {
     "data": {
      "text/plain": [
       "['H', 'M', 'S']"
      ]
     },
     "execution_count": 56,
     "metadata": {},
     "output_type": "execute_result"
    }
   ],
   "source": [
    "palabras = ['Hola', 'Mundo', 'Si']\n",
    "primera_letra(palabras)"
   ]
  },
  {
   "cell_type": "code",
   "execution_count": 57,
   "metadata": {},
   "outputs": [
    {
     "ename": "AssertionError",
     "evalue": "42 no es string",
     "output_type": "error",
     "traceback": [
      "\u001b[1;31m---------------------------------------------------------------------------\u001b[0m",
      "\u001b[1;31mAssertionError\u001b[0m                            Traceback (most recent call last)",
      "Cell \u001b[1;32mIn[57], line 2\u001b[0m\n\u001b[0;32m      1\u001b[0m palabras \u001b[38;5;241m=\u001b[39m [\u001b[38;5;124m'\u001b[39m\u001b[38;5;124mHola\u001b[39m\u001b[38;5;124m'\u001b[39m, \u001b[38;5;124m'\u001b[39m\u001b[38;5;124mMundo\u001b[39m\u001b[38;5;124m'\u001b[39m, \u001b[38;5;241m42\u001b[39m]\n\u001b[1;32m----> 2\u001b[0m \u001b[43mprimera_letra\u001b[49m\u001b[43m(\u001b[49m\u001b[43mpalabras\u001b[49m\u001b[43m)\u001b[49m\n",
      "Cell \u001b[1;32mIn[54], line 5\u001b[0m, in \u001b[0;36mprimera_letra\u001b[1;34m(lista_de_palabra)\u001b[0m\n\u001b[0;32m      2\u001b[0m primera_letra \u001b[38;5;241m=\u001b[39m []\n\u001b[0;32m      4\u001b[0m \u001b[38;5;28;01mfor\u001b[39;00m palabra \u001b[38;5;129;01min\u001b[39;00m lista_de_palabra:\n\u001b[1;32m----> 5\u001b[0m     \u001b[38;5;28;01massert\u001b[39;00m \u001b[38;5;28mtype\u001b[39m(palabra) \u001b[38;5;241m==\u001b[39m \u001b[38;5;28mstr\u001b[39m, \u001b[38;5;124mf\u001b[39m\u001b[38;5;124m'\u001b[39m\u001b[38;5;132;01m{\u001b[39;00mpalabra\u001b[38;5;132;01m}\u001b[39;00m\u001b[38;5;124m no es string\u001b[39m\u001b[38;5;124m'\u001b[39m\n\u001b[0;32m      6\u001b[0m     \u001b[38;5;28;01massert\u001b[39;00m \u001b[38;5;28mlen\u001b[39m(palabra) \u001b[38;5;241m>\u001b[39m \u001b[38;5;241m0\u001b[39m, \u001b[38;5;124m'\u001b[39m\u001b[38;5;124mNo se permiten str vacios\u001b[39m\u001b[38;5;124m'\u001b[39m\n\u001b[0;32m      7\u001b[0m     primera_letra\u001b[38;5;241m.\u001b[39mappend(palabra[\u001b[38;5;241m0\u001b[39m])\n",
      "\u001b[1;31mAssertionError\u001b[0m: 42 no es string"
     ]
    }
   ],
   "source": [
    "palabras = ['Hola', 'Mundo', 42]\n",
    "primera_letra(palabras)"
   ]
  }
 ],
 "metadata": {
  "kernelspec": {
   "display_name": "Python 3",
   "language": "python",
   "name": "python3"
  },
  "language_info": {
   "codemirror_mode": {
    "name": "ipython",
    "version": 3
   },
   "file_extension": ".py",
   "mimetype": "text/x-python",
   "name": "python",
   "nbconvert_exporter": "python",
   "pygments_lexer": "ipython3",
   "version": "3.11.4"
  }
 },
 "nbformat": 4,
 "nbformat_minor": 2
}
