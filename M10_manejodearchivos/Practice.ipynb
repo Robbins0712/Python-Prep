{
 "cells": [
  {
   "cell_type": "code",
   "execution_count": 1,
   "id": "9908a634-be0d-43dd-a4a1-612ff6e7710e",
   "metadata": {
    "tags": []
   },
   "outputs": [
    {
     "name": "stdout",
     "output_type": "stream",
     "text": [
      "Esta oracion es un string\n"
     ]
    }
   ],
   "source": [
    "print(\"Esta oracion es un string\")"
   ]
  },
  {
   "cell_type": "code",
   "execution_count": 2,
   "id": "2cd3dd0b-f600-4f35-aa3d-4fe952a63a8f",
   "metadata": {
    "tags": []
   },
   "outputs": [
    {
     "name": "stdout",
     "output_type": "stream",
     "text": [
      "Esta oracion tambien es un string\n"
     ]
    }
   ],
   "source": [
    "my_var = 'Esta oracion tambien es un string'\n",
    "print(my_var)"
   ]
  },
  {
   "cell_type": "code",
   "execution_count": 3,
   "id": "293dd9f7-0bdc-4b9a-8752-0d92df03b03a",
   "metadata": {
    "tags": []
   },
   "outputs": [
    {
     "name": "stdout",
     "output_type": "stream",
     "text": [
      "Esta oracion es una string  Esta oracion tambien es un string\n"
     ]
    }
   ],
   "source": [
    "print('Esta oracion es una string ', my_var)"
   ]
  },
  {
   "cell_type": "code",
   "execution_count": 4,
   "id": "a89f6db1-a378-49fa-88e8-e0d563e2a952",
   "metadata": {
    "tags": []
   },
   "outputs": [
    {
     "name": "stdout",
     "output_type": "stream",
     "text": [
      "Esta oracion es un string Esta oracion tambien es un string\n"
     ]
    }
   ],
   "source": [
    "my_var = 'Esta oracion'\n",
    "print(my_var + ' es un string ' + my_var+ ' tambien es un string')"
   ]
  },
  {
   "cell_type": "code",
   "execution_count": 5,
   "id": "3ec22545-be59-4ae8-b306-e9ec3c3fe5c9",
   "metadata": {
    "tags": []
   },
   "outputs": [
    {
     "name": "stdout",
     "output_type": "stream",
     "text": [
      "Esta oracion es un string Esta oracion tambien es un string En total, tenemos 3 oraciones. \n"
     ]
    }
   ],
   "source": [
    "my_var = 'Esta oracion tambien es un string'\n",
    "num_oraciones= 3\n",
    "print('Esta oracion es un string %s En total, tenemos %d oraciones. '%(my_var, num_oraciones))\n",
    "\n",
    "#n el contexto de formateo de cadenas en Python, %s y %d son marcadores de posición que se utilizan para insertar valores en una cadena.\n",
    "#%s es un marcador de posición para una cadena. Cuando usas %s en una cadena, este se reemplaza por la representación en cadena de la variable o valor que proporcionas.\n",
    "#%d es un marcador de posición para un número entero. Se utiliza para insertar valores enteros en una cadena.\n",
    "\n",
    "#Aquí, %s se reemplaza por la representación en cadena de la variable my_var, y %d se reemplaza por el valor entero de la variable num_oraciones. \n",
    "#El operador % se utiliza para formatear la cadena, y los valores dentro de los paréntes"
   ]
  },
  {
   "cell_type": "code",
   "execution_count": 6,
   "id": "c5418af2-6785-463a-8c73-263ad9a2b020",
   "metadata": {
    "tags": []
   },
   "outputs": [
    {
     "name": "stdout",
     "output_type": "stream",
     "text": [
      "Hemos visto al menos 5 formas de mostrar 3 oraciones en pantalla\n"
     ]
    }
   ],
   "source": [
    "num_oraciones= 3\n",
    "print(f'Hemos visto al menos {num_oraciones+2} formas de mostrar {num_oraciones} oraciones en pantalla')"
   ]
  },
  {
   "cell_type": "code",
   "execution_count": 7,
   "id": "635bd489-a1a0-49a4-9707-74a0dbbe6c0f",
   "metadata": {
    "tags": []
   },
   "outputs": [
    {
     "name": "stdin",
     "output_type": "stream",
     "text": [
      "Cual es tu color favorito? Azul\n"
     ]
    }
   ],
   "source": [
    "color = input('Cual es tu color favorito?')"
   ]
  },
  {
   "cell_type": "code",
   "execution_count": 8,
   "id": "23af2664-29e3-40a3-aec4-27cd14c23a89",
   "metadata": {
    "tags": []
   },
   "outputs": [
    {
     "name": "stdout",
     "output_type": "stream",
     "text": [
      "Azul\n"
     ]
    }
   ],
   "source": [
    "print(color)"
   ]
  },
  {
   "cell_type": "code",
   "execution_count": null,
   "id": "4ae3ba6f-de7d-4e23-85ee-f5434b643518",
   "metadata": {},
   "outputs": [],
   "source": [
    "#Sistema de archivos: Libreria OS - Operaciones dependientes del sistema operativo"
   ]
  },
  {
   "cell_type": "code",
   "execution_count": 9,
   "id": "13b57d21-2f51-48d5-8728-fb97ac295c97",
   "metadata": {
    "tags": []
   },
   "outputs": [],
   "source": [
    "import os"
   ]
  },
  {
   "cell_type": "code",
   "execution_count": 10,
   "id": "5614076a-86e3-4b21-8cf7-9884999433c2",
   "metadata": {
    "tags": []
   },
   "outputs": [],
   "source": [
    "os.makedirs('Carpeta_nueva')"
   ]
  },
  {
   "cell_type": "code",
   "execution_count": 11,
   "id": "73dd882a-c8db-4f86-b222-edd79e7a4a8a",
   "metadata": {
    "tags": []
   },
   "outputs": [
    {
     "data": {
      "text/plain": [
       "['.ipynb_checkpoints',\n",
       " 'Carpeta_nueva',\n",
       " 'clase09_ej1.py',\n",
       " 'clase09_ej2.csv',\n",
       " 'clase09_ej2.py',\n",
       " 'clase09_montañas_altas',\n",
       " 'datos.txt',\n",
       " 'ejemplo_parametros.py',\n",
       " 'practica.ipynb',\n",
       " 'Practice.ipynb',\n",
       " 'Prep_Course_Homework_09-Resuelto.ipynb',\n",
       " 'Prep_Course_Homework_09-Resuelto.py',\n",
       " 'Prep_Course_Homework_09.md',\n",
       " 'saludo.py',\n",
       " '__pycache__']"
      ]
     },
     "execution_count": 11,
     "metadata": {},
     "output_type": "execute_result"
    }
   ],
   "source": [
    "os.listdir('./')"
   ]
  },
  {
   "cell_type": "code",
   "execution_count": 12,
   "id": "d38d6ac9-aa3d-4900-b422-d24221d1c994",
   "metadata": {
    "tags": []
   },
   "outputs": [
    {
     "data": {
      "text/plain": [
       "'C:\\\\Users\\\\rcortes\\\\Desktop\\\\Python-Prep\\\\M10_manejodearchivos'"
      ]
     },
     "execution_count": 12,
     "metadata": {},
     "output_type": "execute_result"
    }
   ],
   "source": [
    "os.getcwd()"
   ]
  },
  {
   "cell_type": "code",
   "execution_count": 20,
   "id": "7796a4fe-ab54-49a3-8ada-66dce2581526",
   "metadata": {
    "tags": []
   },
   "outputs": [
    {
     "data": {
      "text/plain": [
       "162"
      ]
     },
     "execution_count": 20,
     "metadata": {},
     "output_type": "execute_result"
    }
   ],
   "source": [
    "import os\n",
    "os.path.getsize('saludo.py')"
   ]
  },
  {
   "cell_type": "code",
   "execution_count": 21,
   "id": "3897819e-a7c2-45a1-bf1a-2550adafb361",
   "metadata": {
    "tags": []
   },
   "outputs": [
    {
     "data": {
      "text/plain": [
       "True"
      ]
     },
     "execution_count": 21,
     "metadata": {},
     "output_type": "execute_result"
    }
   ],
   "source": [
    "os.path.isfile('saludo.py')"
   ]
  },
  {
   "cell_type": "code",
   "execution_count": 22,
   "id": "8cf47f5c-1e7e-49d7-ab75-323c41bc928e",
   "metadata": {
    "tags": []
   },
   "outputs": [
    {
     "data": {
      "text/plain": [
       "True"
      ]
     },
     "execution_count": 22,
     "metadata": {},
     "output_type": "execute_result"
    }
   ],
   "source": [
    "os.path.isdir('Carpeta_nueva')"
   ]
  },
  {
   "cell_type": "code",
   "execution_count": 23,
   "id": "65f62a10-4ab8-4135-8f14-c3731f7faf1a",
   "metadata": {
    "tags": []
   },
   "outputs": [
    {
     "data": {
      "text/plain": [
       "'C:\\\\Users\\\\rcortes\\\\Desktop\\\\Python-Prep\\\\M10_manejodearchivos'"
      ]
     },
     "execution_count": 23,
     "metadata": {},
     "output_type": "execute_result"
    }
   ],
   "source": [
    "os.getcwd()"
   ]
  },
  {
   "cell_type": "code",
   "execution_count": 24,
   "id": "c30cd89b-e693-4e34-9927-ae79982a9d20",
   "metadata": {
    "tags": []
   },
   "outputs": [],
   "source": [
    "os.chdir('Otra_carpeta')"
   ]
  },
  {
   "cell_type": "code",
   "execution_count": 25,
   "id": "051a2fe9-56a3-41ba-ac5b-f92e19e6d5f1",
   "metadata": {
    "tags": []
   },
   "outputs": [
    {
     "data": {
      "text/plain": [
       "'C:\\\\Users\\\\rcortes\\\\Desktop\\\\Python-Prep\\\\M10_manejodearchivos\\\\Otra_carpeta'"
      ]
     },
     "execution_count": 25,
     "metadata": {},
     "output_type": "execute_result"
    }
   ],
   "source": [
    "os.getcwd()"
   ]
  },
  {
   "cell_type": "code",
   "execution_count": 34,
   "id": "666055fe-7a38-4125-9ab3-a7b28b6022d9",
   "metadata": {
    "tags": []
   },
   "outputs": [],
   "source": [
    "os.chdir('C:\\\\Users\\\\rcortes\\\\Desktop\\\\Python-Prep\\\\M10_manejodearchivos')"
   ]
  },
  {
   "cell_type": "code",
   "execution_count": 35,
   "id": "62c2710f-c38f-4b86-b7fb-d487abbffa3c",
   "metadata": {
    "tags": []
   },
   "outputs": [
    {
     "data": {
      "text/plain": [
       "'C:\\\\Users\\\\rcortes\\\\Desktop\\\\Python-Prep\\\\M10_manejodearchivos'"
      ]
     },
     "execution_count": 35,
     "metadata": {},
     "output_type": "execute_result"
    }
   ],
   "source": [
    "os.getcwd()"
   ]
  },
  {
   "cell_type": "code",
   "execution_count": 37,
   "id": "e73bd067-a8f0-4a9d-b541-cd58d3574982",
   "metadata": {
    "tags": []
   },
   "outputs": [],
   "source": [
    "import os\n",
    "os.rename('datos.txt','datos2.txt')"
   ]
  },
  {
   "cell_type": "code",
   "execution_count": 40,
   "id": "ac6c7a42-2d9c-4232-9a3f-3ed2d2c432b5",
   "metadata": {
    "tags": []
   },
   "outputs": [],
   "source": [
    "os.remove(os.getcwd()+'/datos.txt')"
   ]
  },
  {
   "cell_type": "code",
   "execution_count": null,
   "id": "3fdf6c42-235e-4607-a95b-910b2b2248cf",
   "metadata": {},
   "outputs": [],
   "source": []
  }
 ],
 "metadata": {
  "kernelspec": {
   "display_name": "Python 3 (ipykernel)",
   "language": "python",
   "name": "python3"
  },
  "language_info": {
   "codemirror_mode": {
    "name": "ipython",
    "version": 3
   },
   "file_extension": ".py",
   "mimetype": "text/x-python",
   "name": "python",
   "nbconvert_exporter": "python",
   "pygments_lexer": "ipython3",
   "version": "3.11.5"
  }
 },
 "nbformat": 4,
 "nbformat_minor": 5
}
