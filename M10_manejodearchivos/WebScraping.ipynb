{
 "cells": [
  {
   "cell_type": "markdown",
   "id": "0f254033-81c3-4cff-ab86-b05735c153f5",
   "metadata": {},
   "source": [
    "#Los archivos pueden ser secuenciales o Binarios\n",
    "- Secuenciales: Tienen informacion almacenada en registros contiguos. Archivos de texto simple.\n",
    "- Binarios: Codificados en el lenguaje binario. Requieren procesamiento especifico para su lectura, que puede venir de un software en particular.\n",
    "\n",
    "#Cuando querramos manipular archivos secuenciales dentro del sistema de archivos contamos con el tipo de archivo integrado de Python FILE y la funcion integrada OPEN\n",
    "- Donde <archivo> es la ubicación del archivo con el que queremos trabajar y <modo> es uno de los siguientes modos de trabajo con ese archivo:\n",
    "'r': read - Lectura\n",
    "'w': write - Escritura\n",
    "'a': Append - Anexado (abre un archivo para agregar informacion al final del mismo, si no existe lo crea).\n",
    "'x': create - crea (crea un archivo y devuelve un error si el mismo ya existiera).\n",
    "    \n",
    "open() : Lee y Crea archivos - realiza la lectura de manera secuencial de la misma manera, linea por linea\n"
   ]
  },
  {
   "cell_type": "code",
   "execution_count": 1,
   "id": "810566df-9ba0-4533-a3d8-4e224de7d0ea",
   "metadata": {
    "tags": []
   },
   "outputs": [],
   "source": [
    "import os"
   ]
  },
  {
   "cell_type": "code",
   "execution_count": 2,
   "id": "d8658b1a-dc86-4442-b9ca-4a9663d32915",
   "metadata": {
    "tags": []
   },
   "outputs": [],
   "source": [
    "ingredientes = ['Cebolla', 'Tomate', 'Aceite']"
   ]
  },
  {
   "cell_type": "code",
   "execution_count": 9,
   "id": "f43f13ee-d18d-4a14-ae83-6a176ce8c31a",
   "metadata": {
    "tags": []
   },
   "outputs": [],
   "source": [
    "archivo = open('datos.txt','w')"
   ]
  },
  {
   "cell_type": "code",
   "execution_count": 10,
   "id": "885dd0db-a9df-4fbe-ae71-77aa923e800a",
   "metadata": {
    "tags": []
   },
   "outputs": [],
   "source": [
    "for elemento in ingredientes:\n",
    "    archivo.write(elemento+'\\n') #\\n indica el comienzo de una nueva linea"
   ]
  },
  {
   "cell_type": "code",
   "execution_count": 11,
   "id": "4ddf19e5-d937-4528-b10a-310989747180",
   "metadata": {
    "tags": []
   },
   "outputs": [],
   "source": [
    "archivo.close() #debemos cerrar los archivos por que de no hacerlo siguen abiertos, os interpretaria que sigue en uso"
   ]
  },
  {
   "cell_type": "code",
   "execution_count": 12,
   "id": "57c621eb-78d0-4934-bc63-3263b2f92ec7",
   "metadata": {
    "tags": []
   },
   "outputs": [],
   "source": [
    "import os"
   ]
  },
  {
   "cell_type": "code",
   "execution_count": 17,
   "id": "72173307-60e2-4672-9805-4e0c68696a79",
   "metadata": {
    "tags": []
   },
   "outputs": [],
   "source": [
    "archivo = open('datos.txt','r')"
   ]
  },
  {
   "cell_type": "code",
   "execution_count": 18,
   "id": "228726ea-dff2-41e7-933b-d8e1716c0da0",
   "metadata": {
    "tags": []
   },
   "outputs": [
    {
     "name": "stdout",
     "output_type": "stream",
     "text": [
      "Cebolla\n",
      "\n",
      "Tomate\n",
      "\n",
      "Aceite\n",
      "\n"
     ]
    }
   ],
   "source": [
    "for linea in archivo:\n",
    "    print(linea)\n"
   ]
  },
  {
   "cell_type": "markdown",
   "id": "948df093-9f4c-422d-aba5-ac25abd50ffa",
   "metadata": {
    "tags": []
   },
   "source": [
    "archivo.close() "
   ]
  },
  {
   "cell_type": "code",
   "execution_count": 25,
   "id": "6b76e6b5-6a19-4db4-896c-975320ced939",
   "metadata": {
    "tags": []
   },
   "outputs": [],
   "source": [
    "# Datos locales Vs Datos en linea\n",
    "# Aunque pueden resultar muy utiles, no siempre disponemos de ls mismos\n",
    "# Como extraer datos? WebScraping - BeautifulSoup"
   ]
  },
  {
   "cell_type": "code",
   "execution_count": 32,
   "id": "09eb9abd-b8e1-4e93-ae1c-fbdd705d0519",
   "metadata": {
    "tags": []
   },
   "outputs": [],
   "source": [
    "from bs4 import BeautifulSoup\n",
    "import urllib.request"
   ]
  },
  {
   "cell_type": "code",
   "execution_count": 35,
   "id": "02c925d1-cdbc-471a-ad17-c989948ef24f",
   "metadata": {
    "tags": []
   },
   "outputs": [],
   "source": [
    "response = urllib.request.urlopen('https://es.wikipedia.org/wiki/Python')\n",
    "html = response.read()"
   ]
  },
  {
   "cell_type": "code",
   "execution_count": 36,
   "id": "fb7fd33b-2cd2-41e9-ab7a-70f896e48249",
   "metadata": {
    "tags": []
   },
   "outputs": [],
   "source": [
    "soup = BeautifulSoup(html, 'html.parser') #soup = BeautifulSoup(html, 'html.parser'): Crea un objeto BeautifulSoup llamado soup utilizando el contenido HTML y el analizador 'html.parser'. 'html.parser' es el analizador HTML incorporado en Python que BeautifulSoup utiliza para analizar el HTML y convertirlo en una estructura de árbol.\n",
    "text = soup.get_text()"
   ]
  },
  {
   "cell_type": "code",
   "execution_count": 37,
   "id": "abc74a74-425f-4391-a8c5-5897c1d2fc40",
   "metadata": {
    "tags": []
   },
   "outputs": [],
   "source": [
    "links = soup.find_all('a')"
   ]
  },
  {
   "cell_type": "code",
   "execution_count": null,
   "id": "c788aef1-1654-4331-8d5a-ca5e089c67a2",
   "metadata": {},
   "outputs": [],
   "source": []
  },
  {
   "cell_type": "code",
   "execution_count": null,
   "id": "92f87810-33c8-44ae-86d0-f3e058fce73c",
   "metadata": {},
   "outputs": [],
   "source": []
  }
 ],
 "metadata": {
  "kernelspec": {
   "display_name": "Python 3 (ipykernel)",
   "language": "python",
   "name": "python3"
  },
  "language_info": {
   "codemirror_mode": {
    "name": "ipython",
    "version": 3
   },
   "file_extension": ".py",
   "mimetype": "text/x-python",
   "name": "python",
   "nbconvert_exporter": "python",
   "pygments_lexer": "ipython3",
   "version": "3.11.5"
  }
 },
 "nbformat": 4,
 "nbformat_minor": 5
}
