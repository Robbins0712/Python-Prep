{
 "cells": [
  {
   "cell_type": "markdown",
   "metadata": {},
   "source": [
    "print"
   ]
  },
  {
   "cell_type": "code",
   "execution_count": 1,
   "metadata": {},
   "outputs": [
    {
     "name": "stdout",
     "output_type": "stream",
     "text": [
      "Esta oracion es un string\n"
     ]
    }
   ],
   "source": [
    "print(\"Esta oracion es un string\")"
   ]
  },
  {
   "cell_type": "code",
   "execution_count": 2,
   "metadata": {},
   "outputs": [
    {
     "name": "stdout",
     "output_type": "stream",
     "text": [
      "Esta oracion tambien es un string\n"
     ]
    }
   ],
   "source": [
    "my_var = 'Esta oracion tambien es un string'\n",
    "print(my_var)"
   ]
  },
  {
   "cell_type": "code",
   "execution_count": 3,
   "metadata": {},
   "outputs": [
    {
     "name": "stdout",
     "output_type": "stream",
     "text": [
      "Esta oracion es una string  Esta oracion tambien es un string\n"
     ]
    }
   ],
   "source": [
    "print('Esta oracion es una string ', my_var)"
   ]
  },
  {
   "cell_type": "code",
   "execution_count": 5,
   "metadata": {},
   "outputs": [
    {
     "name": "stdout",
     "output_type": "stream",
     "text": [
      "Esta oracion es un string Esta oracion tambien es un string\n"
     ]
    }
   ],
   "source": [
    "my_var = 'Esta oracion'\n",
    "print(my_var + ' es un string ' + my_var+ ' tambien es un string')"
   ]
  },
  {
   "cell_type": "code",
   "execution_count": 8,
   "metadata": {},
   "outputs": [
    {
     "name": "stdout",
     "output_type": "stream",
     "text": [
      "Esta oracion es un string Esta oracion tambien es un string En total, tenemos 3 oraciones. \n"
     ]
    }
   ],
   "source": [
    "my_var = 'Esta oracion tambien es un string'\n",
    "num_oraciones= 3\n",
    "print('Esta oracion es un string %s En total, tenemos %d oraciones. '%(my_var, num_oraciones))\n",
    "\n",
    "#n el contexto de formateo de cadenas en Python, %s y %d son marcadores de posición que se utilizan para insertar valores en una cadena.\n",
    "#%s es un marcador de posición para una cadena. Cuando usas %s en una cadena, este se reemplaza por la representación en cadena de la variable o valor que proporcionas.\n",
    "#%d es un marcador de posición para un número entero. Se utiliza para insertar valores enteros en una cadena.\n",
    "\n",
    "#Aquí, %s se reemplaza por la representación en cadena de la variable my_var, y %d se reemplaza por el valor entero de la variable num_oraciones. \n",
    "#El operador % se utiliza para formatear la cadena, y los valores dentro de los paréntes"
   ]
  },
  {
   "cell_type": "code",
   "execution_count": 9,
   "metadata": {},
   "outputs": [
    {
     "name": "stdout",
     "output_type": "stream",
     "text": [
      "Hemos visto al menos 5 formas de mostrar 3 oraciones en pantalla\n"
     ]
    }
   ],
   "source": [
    "num_oraciones= 3\n",
    "print(f'Hemos visto al menos {num_oraciones+2} formas de mostrar {num_oraciones} oraciones en pantalla')"
   ]
  },
  {
   "cell_type": "markdown",
   "metadata": {},
   "source": [
    "Input"
   ]
  },
  {
   "cell_type": "code",
   "execution_count": 1,
   "metadata": {},
   "outputs": [],
   "source": [
    "color = input('Cual es tu color favorito?')"
   ]
  },
  {
   "cell_type": "code",
   "execution_count": null,
   "metadata": {},
   "outputs": [],
   "source": [
    "print(color)"
   ]
  },
  {
   "cell_type": "code",
   "execution_count": null,
   "metadata": {},
   "outputs": [],
   "source": []
  },
  {
   "cell_type": "code",
   "execution_count": null,
   "metadata": {},
   "outputs": [],
   "source": []
  }
 ],
 "metadata": {
  "kernelspec": {
   "display_name": "Python 3",
   "language": "python",
   "name": "python3"
  },
  "language_info": {
   "codemirror_mode": {
    "name": "ipython",
    "version": 3
   },
   "file_extension": ".py",
   "mimetype": "text/x-python",
   "name": "python",
   "nbconvert_exporter": "python",
   "pygments_lexer": "ipython3",
   "version": "3.11.4"
  }
 },
 "nbformat": 4,
 "nbformat_minor": 2
}
